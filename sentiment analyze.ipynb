pip install nltk
pip install textblob
pip install newspaper3k #allow us to get news papers article to our script

import nltk
nltk.download('punkt')
from textblob import TextBlob
from newspaper import Article
url='https://fr.wikipedia.org/wiki/Math%C3%A9matiques'
article=Article(url)
article.download()
article.parse()
article.nlp()
#text = article.text #give us the body text of the article without the navigation pain, ads etc
text= article.summary #give us the main idea of the article
print(text)

blob = TextBlob(text) #TextBlob is a part of the TextBlob library, and it is used for processing textual data. 
sentiment = blob.sentiment.polarity # It ranges from -1.0 to 1.0, where -1.0 indicates very negative sentiment, 0.0 indicates neutral sentiment, and 1.0 indicates very positive sentiment}
print(sentiment)
